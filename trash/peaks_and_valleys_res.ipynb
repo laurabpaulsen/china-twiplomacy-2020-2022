{
 "cells": [
  {
   "cell_type": "code",
   "execution_count": 132,
   "metadata": {},
   "outputs": [],
   "source": [
    "import pandas as pd\n",
    "import openpyxl"
   ]
  },
  {
   "cell_type": "code",
   "execution_count": 133,
   "metadata": {},
   "outputs": [],
   "source": [
    "df = pd.read_csv('data/emotion_diplomat_data.csv')\n",
    "df['created_at'] = pd.to_datetime(df['created_at'], format = '%Y-%m-%d')\n",
    "flux = pd.read_csv('data/idmdl/emotions_summarised_date_W3.csv')\n",
    "flux['date'] = pd.to_datetime(flux['date'], format = '%Y-%m-%d')\n",
    "# between april 2021 - november 2021\n",
    "df = df.loc[df['created_at'] > '2021-04-01']\n",
    "df = df.loc[df['created_at'] < '2021-11-01']"
   ]
  },
  {
   "cell_type": "code",
   "execution_count": 134,
   "metadata": {},
   "outputs": [],
   "source": [
    "flux['peaks'] = [True if res > 0.02 else False for res in flux['resonance']]\n",
    "flux['valleys'] = [True if res < -0.02 else False for res in flux['resonance']]\n",
    "\n",
    "flux.rename(columns = {'date':'created_at'}, inplace = True)"
   ]
  },
  {
   "cell_type": "code",
   "execution_count": 135,
   "metadata": {},
   "outputs": [],
   "source": [
    "data = flux.merge(df, on = 'created_at')"
   ]
  },
  {
   "cell_type": "code",
   "execution_count": 137,
   "metadata": {},
   "outputs": [],
   "source": [
    "data = data.drop(labels = ['novelty', 'transience', 'nsigma', 'tsigma', 'rsigma', 'text_clean', 'emotion', 'followers_count', 'hashtags', 'tweetID', 'tweet_count', 'reply_count', 'index', 'Unnamed: 0', 'emo_prob', 'listed_count'], axis = 1)"
   ]
  },
  {
   "cell_type": "code",
   "execution_count": 138,
   "metadata": {},
   "outputs": [],
   "source": [
    "peaks = data[(data['peaks'] == True)]\n",
    "valleys = data[(data['valleys'] == True)]"
   ]
  },
  {
   "cell_type": "code",
   "execution_count": 139,
   "metadata": {},
   "outputs": [],
   "source": [
    "peaks.to_excel(os.path.join('excel', 'res_peaks_april_to_november.xlsx'), index=False)\n",
    "valleys.to_excel(os.path.join('excel', 'res_valleys_april_to_november.xlsx'), index=False)"
   ]
  },
  {
   "cell_type": "markdown",
   "metadata": {},
   "source": [
    "## Find the tweets that are most similar to the average emotion distribution on that day"
   ]
  },
  {
   "cell_type": "markdown",
   "metadata": {},
   "source": [
    "Notes:\n",
    "\n",
    "Peaks og valleys af resonance i en bestemt periode\n",
    "De dage hvor det peaker eller \"dypper\""
   ]
  }
 ],
 "metadata": {
  "kernelspec": {
   "display_name": "Python 3",
   "language": "python",
   "name": "python3"
  },
  "language_info": {
   "codemirror_mode": {
    "name": "ipython",
    "version": 3
   },
   "file_extension": ".py",
   "mimetype": "text/x-python",
   "name": "python",
   "nbconvert_exporter": "python",
   "pygments_lexer": "ipython3",
   "version": "3.9.6 (default, Oct 18 2022, 12:41:40) \n[Clang 14.0.0 (clang-1400.0.29.202)]"
  },
  "orig_nbformat": 2,
  "vscode": {
   "interpreter": {
    "hash": "31f2aee4e71d21fbe5cf8b01ff0e069b9275f58929596ceb00d14d90e3e16cd6"
   }
  }
 },
 "nbformat": 4,
 "nbformat_minor": 2
}
