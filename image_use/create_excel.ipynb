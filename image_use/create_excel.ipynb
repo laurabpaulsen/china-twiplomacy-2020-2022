{
 "cells": [
  {
   "cell_type": "code",
   "execution_count": 38,
   "metadata": {},
   "outputs": [],
   "source": [
    "import pandas as pd\n",
    "import openpyxl"
   ]
  },
  {
   "cell_type": "code",
   "execution_count": 39,
   "metadata": {},
   "outputs": [
    {
     "output_type": "execute_result",
     "data": {
      "text/plain": "   created_at lang  like_count  listed_count  photo    retweet  retweet_count  \\\n0  2021-02-28   ja         0.0         202.0    4.0  retweeted            6.0   \n1  2021-02-28   ja         0.0         202.0    0.0  retweeted            5.0   \n2  2021-02-28   ja         0.0         202.0    0.0  retweeted           81.0   \n3  2021-02-28   ja         0.0         202.0    0.0  retweeted            7.0   \n4  2021-02-28   ja         0.0         202.0    0.0  retweeted            9.0   \n\n                                                text              tweetID  \\\n0  江蘇省の南通市警察が電話やネット詐欺の常套手段を広めようと、覚えやすいスローガンをタピオカの...  1365928250216640513   \n1  春節前日、山西省・天竜山石窟の第8窟北壁の仏像の頭部が、中央広播電視総台の春晩に登場。石仏の...  1365928192045764612   \n2  獅子舞の休憩時間に居眠りする可愛い獅子。（編集Ｍ） https://t.co/R78ZfYCoYm  1365928167873998848   \n3  【中国各地で元宵節のムード高まる】元宵節は、中国の伝統的な祝祭日の一つで、中国の人々はランタ...  1365927942304374784   \n4  【伝統の湯圓をユニークなデザインに】山東省青島市西海岸新区で可愛いキャラクターをデザインした...  1365927906896060418   \n\n                                                 url         username  video  \\\n0  https://pbs.twimg.com/media/EvMqkyrU4AATgdR.jp...  ChnConsul_osaka    0.0   \n1                                                NaN  ChnConsul_osaka    0.0   \n2                                                NaN  ChnConsul_osaka    1.0   \n3                                                NaN  ChnConsul_osaka    0.0   \n4                                                NaN  ChnConsul_osaka    0.0   \n\n   category  \n0  Diplomat  \n1  Diplomat  \n2  Diplomat  \n3  Diplomat  \n4  Diplomat  ",
      "text/html": "<div>\n<style scoped>\n    .dataframe tbody tr th:only-of-type {\n        vertical-align: middle;\n    }\n\n    .dataframe tbody tr th {\n        vertical-align: top;\n    }\n\n    .dataframe thead th {\n        text-align: right;\n    }\n</style>\n<table border=\"1\" class=\"dataframe\">\n  <thead>\n    <tr style=\"text-align: right;\">\n      <th></th>\n      <th>created_at</th>\n      <th>lang</th>\n      <th>like_count</th>\n      <th>listed_count</th>\n      <th>photo</th>\n      <th>retweet</th>\n      <th>retweet_count</th>\n      <th>text</th>\n      <th>tweetID</th>\n      <th>url</th>\n      <th>username</th>\n      <th>video</th>\n      <th>category</th>\n    </tr>\n  </thead>\n  <tbody>\n    <tr>\n      <th>0</th>\n      <td>2021-02-28</td>\n      <td>ja</td>\n      <td>0.0</td>\n      <td>202.0</td>\n      <td>4.0</td>\n      <td>retweeted</td>\n      <td>6.0</td>\n      <td>江蘇省の南通市警察が電話やネット詐欺の常套手段を広めようと、覚えやすいスローガンをタピオカの...</td>\n      <td>1365928250216640513</td>\n      <td>https://pbs.twimg.com/media/EvMqkyrU4AATgdR.jp...</td>\n      <td>ChnConsul_osaka</td>\n      <td>0.0</td>\n      <td>Diplomat</td>\n    </tr>\n    <tr>\n      <th>1</th>\n      <td>2021-02-28</td>\n      <td>ja</td>\n      <td>0.0</td>\n      <td>202.0</td>\n      <td>0.0</td>\n      <td>retweeted</td>\n      <td>5.0</td>\n      <td>春節前日、山西省・天竜山石窟の第8窟北壁の仏像の頭部が、中央広播電視総台の春晩に登場。石仏の...</td>\n      <td>1365928192045764612</td>\n      <td>NaN</td>\n      <td>ChnConsul_osaka</td>\n      <td>0.0</td>\n      <td>Diplomat</td>\n    </tr>\n    <tr>\n      <th>2</th>\n      <td>2021-02-28</td>\n      <td>ja</td>\n      <td>0.0</td>\n      <td>202.0</td>\n      <td>0.0</td>\n      <td>retweeted</td>\n      <td>81.0</td>\n      <td>獅子舞の休憩時間に居眠りする可愛い獅子。（編集Ｍ） https://t.co/R78ZfYCoYm</td>\n      <td>1365928167873998848</td>\n      <td>NaN</td>\n      <td>ChnConsul_osaka</td>\n      <td>1.0</td>\n      <td>Diplomat</td>\n    </tr>\n    <tr>\n      <th>3</th>\n      <td>2021-02-28</td>\n      <td>ja</td>\n      <td>0.0</td>\n      <td>202.0</td>\n      <td>0.0</td>\n      <td>retweeted</td>\n      <td>7.0</td>\n      <td>【中国各地で元宵節のムード高まる】元宵節は、中国の伝統的な祝祭日の一つで、中国の人々はランタ...</td>\n      <td>1365927942304374784</td>\n      <td>NaN</td>\n      <td>ChnConsul_osaka</td>\n      <td>0.0</td>\n      <td>Diplomat</td>\n    </tr>\n    <tr>\n      <th>4</th>\n      <td>2021-02-28</td>\n      <td>ja</td>\n      <td>0.0</td>\n      <td>202.0</td>\n      <td>0.0</td>\n      <td>retweeted</td>\n      <td>9.0</td>\n      <td>【伝統の湯圓をユニークなデザインに】山東省青島市西海岸新区で可愛いキャラクターをデザインした...</td>\n      <td>1365927906896060418</td>\n      <td>NaN</td>\n      <td>ChnConsul_osaka</td>\n      <td>0.0</td>\n      <td>Diplomat</td>\n    </tr>\n  </tbody>\n</table>\n</div>"
     },
     "metadata": {},
     "execution_count": 39
    }
   ],
   "source": [
    "data = pd.read_csv('media_info.csv')\n",
    "\n",
    "media = data[data['category'] == 'Media'].reset_index(drop=True)\n",
    "data = data[data['category'] == 'Diplomat'].reset_index(drop=True)\n",
    "\n",
    "data.head()"
   ]
  },
  {
   "source": [
    "# Videos"
   ],
   "cell_type": "markdown",
   "metadata": {}
  },
  {
   "cell_type": "code",
   "execution_count": 40,
   "metadata": {},
   "outputs": [],
   "source": [
    "video = data[data['video'] > 0].reset_index(drop=True)\n",
    "\n",
    "video = video.drop(columns = ['photo', 'url', 'tweetID', 'listed_count'])\n",
    "\n",
    "video_org = video[video['retweet'] != 'retweeted'].reset_index(drop=True)"
   ]
  },
  {
   "source": [
    "### most retweeted videos original tweets by diplomats"
   ],
   "cell_type": "markdown",
   "metadata": {}
  },
  {
   "cell_type": "code",
   "execution_count": 41,
   "metadata": {},
   "outputs": [],
   "source": [
    "video_org = video_org.sort_values('retweet_count', ascending = False)\n",
    "\n",
    "# write to excel\n",
    "video_org[:1000].to_excel(os.path.join('excel_sheets', 'most_retweeted_orginal_diplomat_videos.xlsx'), index=False)\n",
    "\n",
    "# only english\n",
    "video_org_en = video_org[video_org['lang'] == 'en']\n",
    "video_org_en[:1000].to_excel(os.path.join('excel_sheets', 'most_retweeted_orginal_diplomat_videos_en.xlsx'), index=False)"
   ]
  },
  {
   "source": [
    "# Photos"
   ],
   "cell_type": "markdown",
   "metadata": {}
  },
  {
   "cell_type": "code",
   "execution_count": 42,
   "metadata": {},
   "outputs": [],
   "source": [
    "photo = data[data['photo'] > 0].reset_index(drop=True)\n",
    "\n",
    "photo = photo.drop(columns = ['video', 'tweetID', 'listed_count'])\n",
    "\n",
    "photo_org = photo[photo['retweet'] != 'retweeted'].reset_index(drop=True)"
   ]
  },
  {
   "source": [
    "### most retweeted photos orginal tweets by diplomats"
   ],
   "cell_type": "markdown",
   "metadata": {}
  },
  {
   "cell_type": "code",
   "execution_count": 43,
   "metadata": {},
   "outputs": [],
   "source": [
    "photo_org = photo_org.sort_values('retweet_count', ascending = False)\n",
    "\n",
    "# write to excel\n",
    "photo_org[:1000].to_excel(os.path.join('excel_sheets', 'most_retweeted_orginal_diplomat_photos.xlsx'), index=False)\n",
    "\n",
    "# only english\n",
    "photo_org_en = photo_org[photo_org['lang'] == 'en']\n",
    "photo_org_en[:1000].to_excel(os.path.join('excel_sheets', 'most_retweeted_orginal_diplomat_photos_en.xlsx'), index=False)"
   ]
  },
  {
   "source": [
    "# Media"
   ],
   "cell_type": "markdown",
   "metadata": {}
  },
  {
   "source": [
    "## Photos"
   ],
   "cell_type": "markdown",
   "metadata": {}
  },
  {
   "cell_type": "code",
   "execution_count": 44,
   "metadata": {},
   "outputs": [],
   "source": [
    "photo = media[media['photo'] > 0].reset_index(drop=True)\n",
    "photo = photo.drop(columns = ['video', 'tweetID', 'listed_count'])\n",
    "photo_org = photo[photo['retweet'] != 'retweeted'].reset_index(drop=True)\n",
    "photo_org = photo_org.sort_values('retweet_count', ascending = False)\n",
    "\n",
    "# write to excel\n",
    "photo_org[:1000].to_excel(os.path.join('excel_sheets', 'most_retweeted_orginal_media_photos.xlsx'), index=False)\n",
    "\n",
    "# only english\n",
    "photo_org_en = photo_org[photo_org['lang'] == 'en']\n",
    "photo_org_en[:1000].to_excel(os.path.join('excel_sheets', 'most_retweeted_orginal_media_photos_en.xlsx'), index=False)"
   ]
  },
  {
   "source": [
    "## Videos"
   ],
   "cell_type": "markdown",
   "metadata": {}
  },
  {
   "cell_type": "code",
   "execution_count": 45,
   "metadata": {},
   "outputs": [],
   "source": [
    "video = media[media['video'] > 0].reset_index(drop=True)\n",
    "video = video.drop(columns = ['photo', 'url', 'tweetID', 'listed_count'])\n",
    "video_org = video[video['retweet'] != 'retweeted'].reset_index(drop=True)\n",
    "video_org = video_org.sort_values('retweet_count', ascending = False)\n",
    "\n",
    "# write to excel\n",
    "video_org[:1000].to_excel(os.path.join('excel_sheets', 'most_retweeted_orginal_media_videos.xlsx'), index=False)\n",
    "\n",
    "# only english\n",
    "video_org_en = video_org[video_org['lang'] == 'en']\n",
    "video_org_en[:1000].to_excel(os.path.join('excel_sheets', 'most_retweeted_orginal_media_videos_en.xlsx'), index=False)"
   ]
  }
 ],
 "metadata": {
  "language_info": {
   "codemirror_mode": {
    "name": "ipython",
    "version": 3
   },
   "file_extension": ".py",
   "mimetype": "text/x-python",
   "name": "python",
   "nbconvert_exporter": "python",
   "pygments_lexer": "ipython3",
   "version": "3.7.3-final"
  },
  "orig_nbformat": 2,
  "kernelspec": {
   "name": "python37364bit3f04864141da4863997cc223a14dbee7",
   "display_name": "Python 3.7.3 64-bit"
  }
 },
 "nbformat": 4,
 "nbformat_minor": 2
}