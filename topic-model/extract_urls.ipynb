{
 "cells": [
  {
   "cell_type": "code",
   "execution_count": 1,
   "metadata": {},
   "outputs": [],
   "source": [
    "import pandas as pd"
   ]
  },
  {
   "cell_type": "code",
   "execution_count": 4,
   "metadata": {},
   "outputs": [
    {
     "output_type": "execute_result",
     "data": {
      "text/plain": "                   created_at         created_mentioner  followers_mentioner  \\\n0    2021-02-23T08:31:23.000Z  2021-02-03T11:42:08.000Z                   44   \n1    2021-02-23T08:30:58.000Z  2021-02-03T11:42:08.000Z                   44   \n2    2021-02-23T08:30:46.000Z  2021-02-03T11:42:08.000Z                   44   \n3    2021-02-22T02:42:50.000Z  2021-01-13T12:44:08.000Z                    1   \n4    2021-02-21T18:11:45.000Z  2020-04-15T21:01:28.000Z                   70   \n..                        ...                       ...                  ...   \n199  2020-02-13T10:13:34.000Z  2014-05-25T11:22:31.000Z                 4313   \n200  2020-02-13T10:01:06.000Z  2017-05-25T08:16:12.000Z                 2090   \n201  2020-02-13T09:20:51.000Z  2017-10-10T18:15:23.000Z                 8120   \n202  2020-02-13T09:17:21.000Z  2019-04-08T19:26:10.000Z                 1167   \n203  2020-02-07T12:15:02.000Z  2018-05-12T11:31:47.000Z                20204   \n\n     following_mentioner lang   mentionee        mentioner  \\\n0                    260  und  chinacgedi  SoeNain04823357   \n1                    260  und  chinacgedi  SoeNain04823357   \n2                    260   en  chinacgedi  SoeNain04823357   \n3                     17   en  chinacgedi     Rahi88708547   \n4                    246   en  chinacgedi  Mohsinjamilkha1   \n..                   ...  ...         ...              ...   \n199                  587   en  chinacgedi  CllrScottArthur   \n200                  712   en  chinacgedi  LordProvostEdin   \n201                 8450   en  chinacgedi   Zom_Bee_Nature   \n202                 1523   en  chinacgedi      kamouflages   \n203                 3591   en  chinacgedi        CaoYi_MFA   \n\n                                  profileimg_mentioner     retweet  \\\n0    https://pbs.twimg.com/profile_images/137185458...      quoted   \n1    https://pbs.twimg.com/profile_images/137185458...      quoted   \n2    https://pbs.twimg.com/profile_images/137185458...   retweeted   \n3    https://pbs.twimg.com/profile_images/135742321...   retweeted   \n4    https://pbs.twimg.com/profile_images/125053227...   retweeted   \n..                                                 ...         ...   \n199  https://pbs.twimg.com/profile_images/105735553...   retweeted   \n200  https://pbs.twimg.com/profile_images/119964206...   retweeted   \n201  https://pbs.twimg.com/profile_images/946615844...   retweeted   \n202  https://pbs.twimg.com/profile_images/125403534...  replied_to   \n203  https://pbs.twimg.com/profile_images/127806732...   retweeted   \n\n                                                  text              tweetID  \\\n0    @ChineseEmbinUK @chinacgedi https://t.co/a7d5L...  1364130724857610241   \n1    @chinacgedi https://t.co/a7d5LQVWIN https://t....  1364130617894445061   \n2    Consul General Ma Qiang has marked #ChineseNew...  1364130570066743297   \n3    Please take notice\\n#TakeUsBackToSchool #takeu...  1363680621822894083   \n4    Please take notice\\n#TakeUsBackToSchool #takeu...  1363552003738238981   \n..                                                 ...                  ...   \n199  Scottish friends express support for Chinese p...  1227898602820861952   \n200  Scottish friends express support for Chinese p...  1227895462352637952   \n201  Scottish friends express support for Chinese p...  1227885334559633408   \n202  @chinacgedi the white man again feeling guilty...  1227884453910974464   \n203  Consul General MA Qiang's article about the no...  1225754841202462720   \n\n     verified_mentioner category category_mentionee  \n0                 False  Neither           Diplomat  \n1                 False  Neither           Diplomat  \n2                 False  Neither           Diplomat  \n3                 False  Neither           Diplomat  \n4                 False  Neither           Diplomat  \n..                  ...      ...                ...  \n199               False  Neither           Diplomat  \n200               False  Neither           Diplomat  \n201               False  Neither           Diplomat  \n202               False  Neither           Diplomat  \n203                True  Neither           Diplomat  \n\n[204 rows x 14 columns]",
      "text/html": "<div>\n<style scoped>\n    .dataframe tbody tr th:only-of-type {\n        vertical-align: middle;\n    }\n\n    .dataframe tbody tr th {\n        vertical-align: top;\n    }\n\n    .dataframe thead th {\n        text-align: right;\n    }\n</style>\n<table border=\"1\" class=\"dataframe\">\n  <thead>\n    <tr style=\"text-align: right;\">\n      <th></th>\n      <th>created_at</th>\n      <th>created_mentioner</th>\n      <th>followers_mentioner</th>\n      <th>following_mentioner</th>\n      <th>lang</th>\n      <th>mentionee</th>\n      <th>mentioner</th>\n      <th>profileimg_mentioner</th>\n      <th>retweet</th>\n      <th>text</th>\n      <th>tweetID</th>\n      <th>verified_mentioner</th>\n      <th>category</th>\n      <th>category_mentionee</th>\n    </tr>\n  </thead>\n  <tbody>\n    <tr>\n      <th>0</th>\n      <td>2021-02-23T08:31:23.000Z</td>\n      <td>2021-02-03T11:42:08.000Z</td>\n      <td>44</td>\n      <td>260</td>\n      <td>und</td>\n      <td>chinacgedi</td>\n      <td>SoeNain04823357</td>\n      <td>https://pbs.twimg.com/profile_images/137185458...</td>\n      <td>quoted</td>\n      <td>@ChineseEmbinUK @chinacgedi https://t.co/a7d5L...</td>\n      <td>1364130724857610241</td>\n      <td>False</td>\n      <td>Neither</td>\n      <td>Diplomat</td>\n    </tr>\n    <tr>\n      <th>1</th>\n      <td>2021-02-23T08:30:58.000Z</td>\n      <td>2021-02-03T11:42:08.000Z</td>\n      <td>44</td>\n      <td>260</td>\n      <td>und</td>\n      <td>chinacgedi</td>\n      <td>SoeNain04823357</td>\n      <td>https://pbs.twimg.com/profile_images/137185458...</td>\n      <td>quoted</td>\n      <td>@chinacgedi https://t.co/a7d5LQVWIN https://t....</td>\n      <td>1364130617894445061</td>\n      <td>False</td>\n      <td>Neither</td>\n      <td>Diplomat</td>\n    </tr>\n    <tr>\n      <th>2</th>\n      <td>2021-02-23T08:30:46.000Z</td>\n      <td>2021-02-03T11:42:08.000Z</td>\n      <td>44</td>\n      <td>260</td>\n      <td>en</td>\n      <td>chinacgedi</td>\n      <td>SoeNain04823357</td>\n      <td>https://pbs.twimg.com/profile_images/137185458...</td>\n      <td>retweeted</td>\n      <td>Consul General Ma Qiang has marked #ChineseNew...</td>\n      <td>1364130570066743297</td>\n      <td>False</td>\n      <td>Neither</td>\n      <td>Diplomat</td>\n    </tr>\n    <tr>\n      <th>3</th>\n      <td>2021-02-22T02:42:50.000Z</td>\n      <td>2021-01-13T12:44:08.000Z</td>\n      <td>1</td>\n      <td>17</td>\n      <td>en</td>\n      <td>chinacgedi</td>\n      <td>Rahi88708547</td>\n      <td>https://pbs.twimg.com/profile_images/135742321...</td>\n      <td>retweeted</td>\n      <td>Please take notice\\n#TakeUsBackToSchool #takeu...</td>\n      <td>1363680621822894083</td>\n      <td>False</td>\n      <td>Neither</td>\n      <td>Diplomat</td>\n    </tr>\n    <tr>\n      <th>4</th>\n      <td>2021-02-21T18:11:45.000Z</td>\n      <td>2020-04-15T21:01:28.000Z</td>\n      <td>70</td>\n      <td>246</td>\n      <td>en</td>\n      <td>chinacgedi</td>\n      <td>Mohsinjamilkha1</td>\n      <td>https://pbs.twimg.com/profile_images/125053227...</td>\n      <td>retweeted</td>\n      <td>Please take notice\\n#TakeUsBackToSchool #takeu...</td>\n      <td>1363552003738238981</td>\n      <td>False</td>\n      <td>Neither</td>\n      <td>Diplomat</td>\n    </tr>\n    <tr>\n      <th>...</th>\n      <td>...</td>\n      <td>...</td>\n      <td>...</td>\n      <td>...</td>\n      <td>...</td>\n      <td>...</td>\n      <td>...</td>\n      <td>...</td>\n      <td>...</td>\n      <td>...</td>\n      <td>...</td>\n      <td>...</td>\n      <td>...</td>\n      <td>...</td>\n    </tr>\n    <tr>\n      <th>199</th>\n      <td>2020-02-13T10:13:34.000Z</td>\n      <td>2014-05-25T11:22:31.000Z</td>\n      <td>4313</td>\n      <td>587</td>\n      <td>en</td>\n      <td>chinacgedi</td>\n      <td>CllrScottArthur</td>\n      <td>https://pbs.twimg.com/profile_images/105735553...</td>\n      <td>retweeted</td>\n      <td>Scottish friends express support for Chinese p...</td>\n      <td>1227898602820861952</td>\n      <td>False</td>\n      <td>Neither</td>\n      <td>Diplomat</td>\n    </tr>\n    <tr>\n      <th>200</th>\n      <td>2020-02-13T10:01:06.000Z</td>\n      <td>2017-05-25T08:16:12.000Z</td>\n      <td>2090</td>\n      <td>712</td>\n      <td>en</td>\n      <td>chinacgedi</td>\n      <td>LordProvostEdin</td>\n      <td>https://pbs.twimg.com/profile_images/119964206...</td>\n      <td>retweeted</td>\n      <td>Scottish friends express support for Chinese p...</td>\n      <td>1227895462352637952</td>\n      <td>False</td>\n      <td>Neither</td>\n      <td>Diplomat</td>\n    </tr>\n    <tr>\n      <th>201</th>\n      <td>2020-02-13T09:20:51.000Z</td>\n      <td>2017-10-10T18:15:23.000Z</td>\n      <td>8120</td>\n      <td>8450</td>\n      <td>en</td>\n      <td>chinacgedi</td>\n      <td>Zom_Bee_Nature</td>\n      <td>https://pbs.twimg.com/profile_images/946615844...</td>\n      <td>retweeted</td>\n      <td>Scottish friends express support for Chinese p...</td>\n      <td>1227885334559633408</td>\n      <td>False</td>\n      <td>Neither</td>\n      <td>Diplomat</td>\n    </tr>\n    <tr>\n      <th>202</th>\n      <td>2020-02-13T09:17:21.000Z</td>\n      <td>2019-04-08T19:26:10.000Z</td>\n      <td>1167</td>\n      <td>1523</td>\n      <td>en</td>\n      <td>chinacgedi</td>\n      <td>kamouflages</td>\n      <td>https://pbs.twimg.com/profile_images/125403534...</td>\n      <td>replied_to</td>\n      <td>@chinacgedi the white man again feeling guilty...</td>\n      <td>1227884453910974464</td>\n      <td>False</td>\n      <td>Neither</td>\n      <td>Diplomat</td>\n    </tr>\n    <tr>\n      <th>203</th>\n      <td>2020-02-07T12:15:02.000Z</td>\n      <td>2018-05-12T11:31:47.000Z</td>\n      <td>20204</td>\n      <td>3591</td>\n      <td>en</td>\n      <td>chinacgedi</td>\n      <td>CaoYi_MFA</td>\n      <td>https://pbs.twimg.com/profile_images/127806732...</td>\n      <td>retweeted</td>\n      <td>Consul General MA Qiang's article about the no...</td>\n      <td>1225754841202462720</td>\n      <td>True</td>\n      <td>Neither</td>\n      <td>Diplomat</td>\n    </tr>\n  </tbody>\n</table>\n<p>204 rows × 14 columns</p>\n</div>"
     },
     "metadata": {},
     "execution_count": 4
    }
   ],
   "source": [
    "pd.read_csv('/work/china-twiplomacy-2020-2022/networks/data/raw/chinacgedi_2007-01-01_2021-02-28.csv')"
   ]
  },
  {
   "cell_type": "code",
   "execution_count": null,
   "metadata": {},
   "outputs": [],
   "source": []
  }
 ],
 "metadata": {
  "language_info": {
   "codemirror_mode": {
    "name": "ipython",
    "version": 3
   },
   "file_extension": ".py",
   "mimetype": "text/x-python",
   "name": "python",
   "nbconvert_exporter": "python",
   "pygments_lexer": "ipython3",
   "version": "3.7.3-final"
  },
  "orig_nbformat": 2,
  "kernelspec": {
   "name": "python37364bitc133b7b079f0469a8df9c198ccf091ba",
   "display_name": "Python 3.7.3 64-bit"
  }
 },
 "nbformat": 4,
 "nbformat_minor": 2
}