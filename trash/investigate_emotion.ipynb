{
 "cells": [
  {
   "cell_type": "code",
   "execution_count": 7,
   "metadata": {},
   "outputs": [],
   "source": [
    "import pandas as pd\n",
    "import numpy as np\n",
    "import matplotlib.pyplot as plt\n",
    "import numpy as np\n",
    "import openpyxl"
   ]
  },
  {
   "cell_type": "code",
   "execution_count": 8,
   "metadata": {},
   "outputs": [],
   "source": [
    "only_orignal_tweets = False # set to True to exclude retweets\n",
    "df = pd.read_csv('data/emotion_diplomat_data.csv')\n",
    "if only_orignal_tweets:\n",
    "    df = df[df['retweet'] != 'retweeted']\n",
    "df['created_at'] = pd.to_datetime(df['created_at'], format = '%Y-%m-%d')\n",
    "df_mean = df.groupby('created_at').mean().reset_index()"
   ]
  },
  {
   "cell_type": "markdown",
   "metadata": {},
   "source": [
    "### Determine peaks of all emotions"
   ]
  },
  {
   "cell_type": "code",
   "execution_count": 9,
   "metadata": {},
   "outputs": [
    {
     "name": "stdout",
     "output_type": "stream",
     "text": [
      "all tweets\n",
      "joy peaks at 2020-01-11 00:00:00\n",
      "love peaks at 2020-01-25 00:00:00\n",
      "anger peaks at 2019-11-28 00:00:00\n",
      "sadness peaks at 2020-04-04 00:00:00\n",
      "fear peaks at 2020-03-20 00:00:00\n",
      "surprise peaks at 2020-11-08 00:00:00\n"
     ]
    }
   ],
   "source": [
    "emotions =  ['joy', 'love', 'anger', 'sadness', 'fear', 'surprise']\n",
    "\n",
    "print('all tweets')\n",
    "for emo in emotions:\n",
    "    print(f\"{emo} peaks at {df_mean[df_mean[emo] == np.max(df_mean[emo])]['created_at'].iloc[0]}\")"
   ]
  },
  {
   "cell_type": "markdown",
   "metadata": {},
   "source": [
    "## Tweets with anger from February (2022) and forward"
   ]
  },
  {
   "cell_type": "code",
   "execution_count": 6,
   "metadata": {},
   "outputs": [],
   "source": [
    "df_feb = df.loc[(df['created_at'] > '2022-02-01')]\n",
    "df_feb = df_feb[['created_at', 'text', 'username', 'retweet', 'joy', 'love', 'anger', 'sadness', 'fear', 'surprise']]\n",
    "df_feb_anger = df_feb[df_feb['anger']>0.8]\n",
    "df_feb_anger = df_feb_anger.sort_values(by = 'created_at').reset_index(drop = True)\n",
    "df_feb_anger.to_excel(os.path.join('excel', 'anger_tweets_feb2022_and_forward.xlsx'), index=False)\n"
   ]
  },
  {
   "cell_type": "code",
   "execution_count": null,
   "metadata": {},
   "outputs": [],
   "source": []
  }
 ],
 "metadata": {
  "kernelspec": {
   "display_name": "Python 3",
   "language": "python",
   "name": "python3"
  },
  "language_info": {
   "codemirror_mode": {
    "name": "ipython",
    "version": 3
   },
   "file_extension": ".py",
   "mimetype": "text/x-python",
   "name": "python",
   "nbconvert_exporter": "python",
   "pygments_lexer": "ipython3",
   "version": "3.9.6 (default, Oct 18 2022, 12:41:40) \n[Clang 14.0.0 (clang-1400.0.29.202)]"
  },
  "orig_nbformat": 2,
  "vscode": {
   "interpreter": {
    "hash": "31f2aee4e71d21fbe5cf8b01ff0e069b9275f58929596ceb00d14d90e3e16cd6"
   }
  }
 },
 "nbformat": 4,
 "nbformat_minor": 2
}
