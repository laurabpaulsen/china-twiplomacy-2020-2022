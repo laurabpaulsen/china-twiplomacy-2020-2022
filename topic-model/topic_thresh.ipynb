{
 "cells": [
  {
   "cell_type": "code",
   "execution_count": 4,
   "metadata": {},
   "outputs": [],
   "source": [
    "#### Imports\n",
    "import pandas as pd \n",
    "import pickle as pkl \n",
    "import altair as alt\n",
    "import numpy as np \n",
    "import os \n",
    "\n",
    "import logging\n",
    "import matplotlib as mpl\n",
    "import matplotlib.pyplot as plt\n",
    "import os\n",
    "import pandas as pd\n",
    "#import pyLDAvis.gensim\n",
    "\n",
    "\n",
    "import matplotlib.dates as md\n",
    "import matplotlib.pyplot as plt\n",
    "import matplotlib.font_manager as font_manager\n",
    "\n",
    "import re\n",
    "#import pyLDAvis\n",
    "\n",
    "import matplotlib as mpl\n",
    "import matplotlib.dates as mdates\n",
    "import matplotlib.pyplot as plt"
   ]
  },
  {
   "cell_type": "code",
   "execution_count": 8,
   "metadata": {},
   "outputs": [
    {
     "output_type": "stream",
     "name": "stdout",
     "text": "Defaulting to user installation because normal site-packages is not writeable\nRequirement already satisfied: pandas in /home/coder/.local/lib/python3.7/site-packages (from -r requirements.txt (line 1)) (1.1.2)\nRequirement already satisfied: altair in /home/coder/.local/lib/python3.7/site-packages (from -r requirements.txt (line 2)) (4.1.0)\nRequirement already satisfied: numpy in /home/coder/.local/lib/python3.7/site-packages (from -r requirements.txt (line 3)) (1.19.1)\nRequirement already satisfied: matplotlib in /home/coder/.local/lib/python3.7/site-packages (from -r requirements.txt (line 4)) (3.3.1)\nRequirement already satisfied: seaborn in /home/coder/.local/lib/python3.7/site-packages (from -r requirements.txt (line 5)) (0.11.0)\nCollecting pyLDAvis==3.2.2\n  Downloading pyLDAvis-3.2.2.tar.gz (1.7 MB)\n\u001b[K     |████████████████████████████████| 1.7 MB 4.8 MB/s \n\u001b[?25hCollecting gensim\n  Downloading gensim-4.2.0-cp37-cp37m-manylinux_2_12_x86_64.manylinux2010_x86_64.whl (24.1 MB)\n\u001b[K     |████████████████████████████████| 24.1 MB 20.4 MB/s \n\u001b[?25hCollecting nltk\n  Downloading nltk-3.7-py3-none-any.whl (1.5 MB)\n\u001b[K     |████████████████████████████████| 1.5 MB 35.1 MB/s \n\u001b[?25hCollecting spacy\n  Downloading spacy-3.4.1-cp37-cp37m-manylinux_2_17_x86_64.manylinux2014_x86_64.whl (6.3 MB)\n\u001b[K     |████████████████████████████████| 6.3 MB 30.1 MB/s \n\u001b[?25hCollecting openpyxl\n  Downloading openpyxl-3.0.10-py2.py3-none-any.whl (242 kB)\n\u001b[K     |████████████████████████████████| 242 kB 34.4 MB/s \n\u001b[?25hRequirement already satisfied: pytz>=2017.2 in /home/coder/.local/lib/python3.7/site-packages (from pandas->-r requirements.txt (line 1)) (2020.1)\nRequirement already satisfied: python-dateutil>=2.7.3 in /home/coder/.local/lib/python3.7/site-packages (from pandas->-r requirements.txt (line 1)) (2.8.1)\nRequirement already satisfied: jinja2 in /home/coder/.local/lib/python3.7/site-packages (from altair->-r requirements.txt (line 2)) (2.11.2)\nRequirement already satisfied: toolz in /home/coder/.local/lib/python3.7/site-packages (from altair->-r requirements.txt (line 2)) (0.10.0)\nRequirement already satisfied: jsonschema in /home/coder/.local/lib/python3.7/site-packages (from altair->-r requirements.txt (line 2)) (3.2.0)\nRequirement already satisfied: entrypoints in /usr/lib/python3/dist-packages (from altair->-r requirements.txt (line 2)) (0.3)\nRequirement already satisfied: pillow>=6.2.0 in /home/coder/.local/lib/python3.7/site-packages (from matplotlib->-r requirements.txt (line 4)) (7.2.0)\nRequirement already satisfied: kiwisolver>=1.0.1 in /home/coder/.local/lib/python3.7/site-packages (from matplotlib->-r requirements.txt (line 4)) (1.2.0)\nRequirement already satisfied: cycler>=0.10 in /home/coder/.local/lib/python3.7/site-packages (from matplotlib->-r requirements.txt (line 4)) (0.10.0)\nRequirement already satisfied: pyparsing!=2.0.4,!=2.1.2,!=2.1.6,>=2.0.3 in /home/coder/.local/lib/python3.7/site-packages (from matplotlib->-r requirements.txt (line 4)) (2.4.7)\nRequirement already satisfied: certifi>=2020.06.20 in /home/coder/.local/lib/python3.7/site-packages (from matplotlib->-r requirements.txt (line 4)) (2020.6.20)\nRequirement already satisfied: scipy>=1.0 in /home/coder/.local/lib/python3.7/site-packages (from seaborn->-r requirements.txt (line 5)) (1.5.2)\nCollecting funcy\n  Downloading funcy-1.17-py2.py3-none-any.whl (33 kB)\nRequirement already satisfied: future in /home/coder/.local/lib/python3.7/site-packages (from pyLDAvis==3.2.2->-r requirements.txt (line 6)) (0.18.2)\nRequirement already satisfied: joblib>=0.8.4 in /home/coder/.local/lib/python3.7/site-packages (from pyLDAvis==3.2.2->-r requirements.txt (line 6)) (0.16.0)\nCollecting numexpr\n  Downloading numexpr-2.8.3-cp37-cp37m-manylinux_2_17_x86_64.manylinux2014_x86_64.whl (379 kB)\n\u001b[K     |████████████████████████████████| 379 kB 31.6 MB/s \n\u001b[?25hRequirement already satisfied: wheel>=0.23.0 in /usr/lib/python3/dist-packages (from pyLDAvis==3.2.2->-r requirements.txt (line 6)) (0.32.3)\nCollecting smart-open>=1.8.1\n  Downloading smart_open-6.2.0-py3-none-any.whl (58 kB)\n\u001b[K     |████████████████████████████████| 58 kB 902 kB/s \n\u001b[?25hRequirement already satisfied: click in /home/coder/.local/lib/python3.7/site-packages (from nltk->-r requirements.txt (line 8)) (7.1.2)\nCollecting regex>=2021.8.3\n  Downloading regex-2022.9.13-cp37-cp37m-manylinux_2_17_x86_64.manylinux2014_x86_64.whl (757 kB)\n\u001b[K     |████████████████████████████████| 757 kB 47.3 MB/s \n\u001b[?25hRequirement already satisfied: tqdm in /home/coder/.local/lib/python3.7/site-packages (from nltk->-r requirements.txt (line 8)) (4.49.0)\nCollecting typer<0.5.0,>=0.3.0\n  Downloading typer-0.4.2-py3-none-any.whl (27 kB)\nCollecting murmurhash<1.1.0,>=0.28.0\n  Downloading murmurhash-1.0.8-cp37-cp37m-manylinux_2_5_x86_64.manylinux1_x86_64.manylinux_2_17_x86_64.manylinux2014_x86_64.whl (21 kB)\nCollecting spacy-legacy<3.1.0,>=3.0.9\n  Downloading spacy_legacy-3.0.10-py2.py3-none-any.whl (21 kB)\nCollecting pydantic!=1.8,!=1.8.1,<1.10.0,>=1.7.4\n  Downloading pydantic-1.9.2-cp37-cp37m-manylinux_2_17_x86_64.manylinux2014_x86_64.whl (11.1 MB)\n\u001b[K     |████████████████████████████████| 11.1 MB 47.5 MB/s \n\u001b[?25hCollecting spacy-loggers<2.0.0,>=1.0.0\n  Downloading spacy_loggers-1.0.3-py3-none-any.whl (9.3 kB)\nCollecting preshed<3.1.0,>=3.0.2\n  Downloading preshed-3.0.7-cp37-cp37m-manylinux_2_5_x86_64.manylinux1_x86_64.manylinux_2_17_x86_64.manylinux2014_x86_64.whl (126 kB)\n\u001b[K     |████████████████████████████████| 126 kB 84.0 MB/s \n\u001b[?25hCollecting cymem<2.1.0,>=2.0.2\n  Downloading cymem-2.0.6-cp37-cp37m-manylinux_2_17_x86_64.manylinux2014_x86_64.whl (35 kB)\nCollecting typing-extensions<4.2.0,>=3.7.4; python_version < \"3.8\"\n  Downloading typing_extensions-4.1.1-py3-none-any.whl (26 kB)\nCollecting langcodes<4.0.0,>=3.2.0\n  Downloading langcodes-3.3.0-py3-none-any.whl (181 kB)\n\u001b[K     |████████████████████████████████| 181 kB 31.9 MB/s \n\u001b[?25hCollecting pathy>=0.3.5\n  Downloading pathy-0.6.2-py3-none-any.whl (42 kB)\n\u001b[K     |████████████████████████████████| 42 kB 899 kB/s \n\u001b[?25hCollecting catalogue<2.1.0,>=2.0.6\n  Downloading catalogue-2.0.8-py3-none-any.whl (17 kB)\nRequirement already satisfied: requests<3.0.0,>=2.13.0 in /home/coder/.local/lib/python3.7/site-packages (from spacy->-r requirements.txt (line 9)) (2.24.0)\nCollecting srsly<3.0.0,>=2.4.3\n  Downloading srsly-2.4.4-cp37-cp37m-manylinux_2_17_x86_64.manylinux2014_x86_64.whl (458 kB)\n\u001b[K     |████████████████████████████████| 458 kB 35.2 MB/s \n\u001b[?25hCollecting wasabi<1.1.0,>=0.9.1\n  Downloading wasabi-0.10.1-py3-none-any.whl (26 kB)\nRequirement already satisfied: setuptools in /usr/lib/python3/dist-packages (from spacy->-r requirements.txt (line 9)) (40.8.0)\nCollecting thinc<8.2.0,>=8.1.0\n  Downloading thinc-8.1.1-cp37-cp37m-manylinux_2_17_x86_64.manylinux2014_x86_64.whl (803 kB)\n\u001b[K     |████████████████████████████████| 803 kB 36.2 MB/s \n\u001b[?25hRequirement already satisfied: packaging>=20.0 in /home/coder/.local/lib/python3.7/site-packages (from spacy->-r requirements.txt (line 9)) (20.4)\nCollecting et-xmlfile\n  Downloading et_xmlfile-1.1.0-py3-none-any.whl (4.7 kB)\nRequirement already satisfied: six>=1.5 in /usr/lib/python3/dist-packages (from python-dateutil>=2.7.3->pandas->-r requirements.txt (line 1)) (1.12.0)\nRequirement already satisfied: MarkupSafe>=0.23 in /home/coder/.local/lib/python3.7/site-packages (from jinja2->altair->-r requirements.txt (line 2)) (1.1.1)\nRequirement already satisfied: attrs>=17.4.0 in /home/coder/.local/lib/python3.7/site-packages (from jsonschema->altair->-r requirements.txt (line 2)) (20.2.0)\nRequirement already satisfied: pyrsistent>=0.14.0 in /home/coder/.local/lib/python3.7/site-packages (from jsonschema->altair->-r requirements.txt (line 2)) (0.17.3)\nRequirement already satisfied: importlib-metadata; python_version < \"3.8\" in /home/coder/.local/lib/python3.7/site-packages (from jsonschema->altair->-r requirements.txt (line 2)) (1.7.0)\nRequirement already satisfied: zipp>=0.5; python_version < \"3.8\" in /home/coder/.local/lib/python3.7/site-packages (from catalogue<2.1.0,>=2.0.6->spacy->-r requirements.txt (line 9)) (3.1.0)\nRequirement already satisfied: chardet<4,>=3.0.2 in /home/coder/.local/lib/python3.7/site-packages (from requests<3.0.0,>=2.13.0->spacy->-r requirements.txt (line 9)) (3.0.4)\nRequirement already satisfied: idna<3,>=2.5 in /home/coder/.local/lib/python3.7/site-packages (from requests<3.0.0,>=2.13.0->spacy->-r requirements.txt (line 9)) (2.10)\nRequirement already satisfied: urllib3!=1.25.0,!=1.25.1,<1.26,>=1.21.1 in /home/coder/.local/lib/python3.7/site-packages (from requests<3.0.0,>=2.13.0->spacy->-r requirements.txt (line 9)) (1.25.10)\nCollecting blis<0.10.0,>=0.7.8\n  Downloading blis-0.9.1-cp37-cp37m-manylinux_2_17_x86_64.manylinux2014_x86_64.whl (7.8 MB)\n\u001b[K     |████████████████████████████████| 7.8 MB 15.6 MB/s \n\u001b[?25hCollecting confection<1.0.0,>=0.0.1\n  Downloading confection-0.0.1-py3-none-any.whl (32 kB)\nBuilding wheels for collected packages: pyLDAvis\n  Building wheel for pyLDAvis (setup.py) ... \u001b[?25ldone\n\u001b[?25h  Created wheel for pyLDAvis: filename=pyLDAvis-3.2.2-py2.py3-none-any.whl size=135591 sha256=2065c6b9cb844620cb912d9843bc640cd0055ad35267b3074a36e04960701a50\n  Stored in directory: /home/coder/.cache/pip/wheels/f8/b1/9b/560ac1931796b7303f7b517b949d2d31a4fbc512aad3b9f284\nSuccessfully built pyLDAvis\nInstalling collected packages: funcy, numexpr, pyLDAvis, smart-open, gensim, regex, nltk, typer, murmurhash, spacy-legacy, typing-extensions, pydantic, wasabi, spacy-loggers, cymem, preshed, langcodes, pathy, catalogue, srsly, blis, confection, thinc, spacy, et-xmlfile, openpyxl\n\u001b[31mERROR: After October 2020 you may experience errors when installing or updating packages. This is because pip will change the way that it resolves dependency conflicts.\n\nWe recommend you use --use-feature=2020-resolver to test your packages with the new resolver before it becomes the default.\n\npathy 0.6.2 requires smart-open<6.0.0,>=5.2.1, but you'll have smart-open 6.2.0 which is incompatible.\u001b[0m\nSuccessfully installed blis-0.9.1 catalogue-2.0.8 confection-0.0.1 cymem-2.0.6 et-xmlfile-1.1.0 funcy-1.17 gensim-4.2.0 langcodes-3.3.0 murmurhash-1.0.8 nltk-3.7 numexpr-2.8.3 openpyxl-3.0.10 pathy-0.6.2 preshed-3.0.7 pyLDAvis-3.2.2 pydantic-1.9.2 regex-2022.9.13 smart-open-6.2.0 spacy-3.4.1 spacy-legacy-3.0.10 spacy-loggers-1.0.3 srsly-2.4.4 thinc-8.1.1 typer-0.4.2 typing-extensions-4.1.1 wasabi-0.10.1\n\u001b[33mWARNING: You are using pip version 20.2.3; however, version 22.2.2 is available.\nYou should consider upgrading via the '/usr/bin/python3.7 -m pip install --upgrade pip' command.\u001b[0m\n"
    }
   ],
   "source": [
    "! pip install -r requirements.txt"
   ]
  },
  {
   "cell_type": "code",
   "execution_count": 9,
   "metadata": {},
   "outputs": [],
   "source": [
    "def topic_threshold(df, topic, threshold):\n",
    "    '''\n",
    "    Creates a subset of the data, which is documents that \n",
    "    have a topic_perc_contribution over a set threshold.\n",
    "    '''\n",
    "    return df[df[topic] > threshold].sort_values(topic, ascending = False)"
   ]
  },
  {
   "cell_type": "code",
   "execution_count": 10,
   "metadata": {},
   "outputs": [],
   "source": [
    "diplo_early = pd.read_csv('data/theta/diplomats_noretweet_theta_df_early.csv')\n",
    "diplo_late = pd.read_csv('data/theta/diplomats_noretweet_theta_df_late.csv')\n",
    "diplo_all = pd.read_csv('data/theta/diplomats_noretweet_theta_df_all.csv')"
   ]
  },
  {
   "cell_type": "code",
   "execution_count": 11,
   "metadata": {},
   "outputs": [
    {
     "output_type": "stream",
     "name": "stdout",
     "text": "1184\n"
    }
   ],
   "source": [
    "thresh = 0.9\n",
    "topic = 'var 1'\n",
    "filename = 'data/tweets_from_topics/diplo_early_var_' + topic.split()[-1] + '.xlsx'\n",
    "\n",
    "diplo_early_var = topic_threshold(diplo_early, topic, thresh)\n",
    "print(len(diplo_early_var))\n",
    "diplo_early_var.to_excel(filename)"
   ]
  },
  {
   "cell_type": "code",
   "execution_count": 12,
   "metadata": {},
   "outputs": [
    {
     "output_type": "stream",
     "name": "stdout",
     "text": "891\n"
    }
   ],
   "source": [
    "thresh = 0.9\n",
    "topic = 'var 1'\n",
    "filename = 'data/tweets_from_topics/diplo_late_var_' + topic.split()[-1] + '.xlsx'\n",
    "\n",
    "diplo_late_var = topic_threshold(diplo_late, topic, thresh)\n",
    "print(len(diplo_late_var))\n",
    "diplo_late_var.to_excel(filename)"
   ]
  },
  {
   "cell_type": "code",
   "execution_count": 13,
   "metadata": {},
   "outputs": [
    {
     "output_type": "stream",
     "name": "stdout",
     "text": "877\n"
    }
   ],
   "source": [
    "thresh = 0.9\n",
    "topic = 'var 1'\n",
    "filename = 'data/tweets_from_topics/diplo_all_var_' + topic.split()[-1] + '.xlsx'\n",
    "\n",
    "diplo_all_var = topic_threshold(diplo_all, topic, thresh)\n",
    "print(len(diplo_all_var))\n",
    "diplo_all_var.to_excel(filename)"
   ]
  },
  {
   "cell_type": "code",
   "execution_count": null,
   "metadata": {},
   "outputs": [],
   "source": []
  }
 ],
 "metadata": {
  "language_info": {
   "codemirror_mode": {
    "name": "ipython",
    "version": 3
   },
   "file_extension": ".py",
   "mimetype": "text/x-python",
   "name": "python",
   "nbconvert_exporter": "python",
   "pygments_lexer": "ipython3",
   "version": "3.7.3-final"
  },
  "orig_nbformat": 2,
  "kernelspec": {
   "name": "python37364bitfc9fa87441c94e80a9a20cb37058578c",
   "display_name": "Python 3.7.3 64-bit"
  }
 },
 "nbformat": 4,
 "nbformat_minor": 2
}